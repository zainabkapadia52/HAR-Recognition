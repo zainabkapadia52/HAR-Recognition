{
 "cells": [
  {
   "cell_type": "markdown",
   "id": "751fdad0",
   "metadata": {},
   "source": [
    "# Q1. \n",
    "Use the Decision Tree model trained on the UCI-HAR dataset to predict the activities that you performed. Report the accuracy, precision, recall and confusion matrix of the model. You have three version of UCI dataset you can use a)Raw data from accelerometer, b)TSFEL featurised data, c)Features provided by author. Choose which version to use, ensuring that your test data is similar to your training data. How did the model perform? [1 marks]"
   ]
  },
  {
   "cell_type": "code",
   "execution_count": 3,
   "id": "4fcc6031",
   "metadata": {},
   "outputs": [
    {
     "name": "stdout",
     "output_type": "stream",
     "text": [
      "[WinError 2] The system cannot find the file specified: 'HAR'\n",
      "d:\\Onedrive\\OneDrive - iitgn.ac.in\\Desktop\\HAR-Recognition\\HAR\n",
      "Training data shape:  (126, 500, 3)\n",
      "Testing data shape:  (54, 500, 3)\n",
      "d:\\Onedrive\\OneDrive - iitgn.ac.in\\Desktop\\HAR-Recognition\n"
     ]
    }
   ],
   "source": [
    "%cd HAR\n",
    "%run MakeDataset.py\n",
    "%cd .."
   ]
  },
  {
   "cell_type": "markdown",
   "id": "d0510be8",
   "metadata": {},
   "source": [
    "Import libraries"
   ]
  },
  {
   "cell_type": "code",
   "execution_count": 4,
   "id": "0dc78f15",
   "metadata": {},
   "outputs": [],
   "source": [
    "import os, glob, numpy as np, pandas as pd, matplotlib.pyplot as plt\n",
    "from sklearn.tree import DecisionTreeClassifier\n",
    "from sklearn.metrics import accuracy_score, precision_score, recall_score, confusion_matrix, classification_report, ConfusionMatrixDisplay\n",
    "\n",
    "TEST_DIR = r\"D:\\Onedrive\\OneDrive - iitgn.ac.in\\Desktop\\HAR-Recognition\\HAR\\final test data\"\n",
    "WIN_LEN = 500"
   ]
  },
  {
   "cell_type": "markdown",
   "id": "0fba1c63",
   "metadata": {},
   "source": [
    "label maps"
   ]
  },
  {
   "cell_type": "code",
   "execution_count": 5,
   "id": "589b2110",
   "metadata": {},
   "outputs": [],
   "source": [
    "SUB2LAB = {\n",
    "    \"downstairs\":\"WALKING_DOWNSTAIRS\",\"laying\":\"LAYING\",\"sitting\":\"SITTING\",\n",
    "    \"standing\":\"STANDING\",\"upstairs\":\"WALKING_UPSTAIRS\",\"walking\":\"WALKING\",\n",
    "}\n",
    "LAB2ID = {\"WALKING\":1,\"WALKING_UPSTAIRS\":2,\"WALKING_DOWNSTAIRS\":3,\"SITTING\":4,\"STANDING\":5,\"LAYING\":6}\n",
    "ID2LAB = {v:k for k,v in LAB2ID.items()}\n",
    "\n",
    "def guess_axes(df):\n",
    "    m={c.lower():c for c in df.columns}\n",
    "    for a,b,c in [(\"ax\",\"ay\",\"az\"),(\"accx\",\"accy\",\"accz\"),(\"acc_x\",\"acc_y\",\"acc_z\"),(\"x\",\"y\",\"z\")]:\n",
    "        if a in m and b in m and c in m: return m[a],m[b],m[c]\n",
    "    num=[c for c in df.columns if pd.api.types.is_numeric_dtype(df[c])]\n",
    "    return num[0],num[1],num[2]\n"
   ]
  },
  {
   "cell_type": "markdown",
   "id": "2a8a8ce6",
   "metadata": {},
   "source": [
    "load YOUR test data AS-IS (no overlap, must be exactly 500 rows)"
   ]
  },
  {
   "cell_type": "code",
   "execution_count": 6,
   "id": "fc31e25c",
   "metadata": {},
   "outputs": [],
   "source": [
    "def load_test_as_is(test_dir):\n",
    "    X, y, used = [], [], []\n",
    "    for sub, lab in SUB2LAB.items():\n",
    "        d = os.path.join(test_dir, sub)\n",
    "        if not os.path.isdir(d): \n",
    "            print(f\"[WARN] missing folder: {d}\"); \n",
    "            continue\n",
    "        for fp in sorted(glob.glob(os.path.join(d, \"*.csv\"))):\n",
    "            df = pd.read_csv(fp)\n",
    "            if len(df) != WIN_LEN:\n",
    "                print(f\"[SKIP not-500] {fp} len={len(df)}\")\n",
    "                continue\n",
    "            axc, ayc, azc = guess_axes(df)\n",
    "            X.append(np.stack([df[axc].to_numpy(),\n",
    "                               df[ayc].to_numpy(),\n",
    "                               df[azc].to_numpy()], axis=-1))   # (500,3)\n",
    "            y.append(LAB2ID[lab])\n",
    "            used.append(fp)\n",
    "    return np.asarray(X, np.float32), np.asarray(y, int), used"
   ]
  },
  {
   "cell_type": "markdown",
   "id": "630436b0",
   "metadata": {},
   "source": [
    "X_train, y_train already exist"
   ]
  },
  {
   "cell_type": "code",
   "execution_count": 7,
   "id": "a4d340d0",
   "metadata": {},
   "outputs": [
    {
     "name": "stdout",
     "output_type": "stream",
     "text": [
      "Using existing train arrays: (126, 500, 3) (126,)\n",
      "Loaded test arrays: (30, 500, 3) (30,)\n"
     ]
    }
   ],
   "source": [
    "print(\"Using existing train arrays:\", X_train.shape, y_train.shape)\n",
    "\n",
    "X_test, y_test, used_files = load_test_as_is(TEST_DIR)\n",
    "print(\"Loaded test arrays:\", X_test.shape, y_test.shape)"
   ]
  },
  {
   "cell_type": "markdown",
   "id": "71e9da59",
   "metadata": {},
   "source": [
    "flatten raw windows: 500x3 -> 1500"
   ]
  },
  {
   "cell_type": "code",
   "execution_count": 8,
   "id": "376c7115",
   "metadata": {},
   "outputs": [],
   "source": [
    "X_train_flat = X_train.reshape(len(X_train), -1)\n",
    "X_test_flat  = X_test.reshape(len(X_test), -1)"
   ]
  },
  {
   "cell_type": "markdown",
   "id": "dae10cca",
   "metadata": {},
   "source": [
    "Decision Tree"
   ]
  },
  {
   "cell_type": "code",
   "execution_count": 9,
   "id": "2d45e85e",
   "metadata": {},
   "outputs": [],
   "source": [
    "clf = DecisionTreeClassifier(max_depth=6, random_state=0)\n",
    "clf.fit(X_train_flat, y_train)\n",
    "y_pred = clf.predict(X_test_flat)"
   ]
  },
  {
   "cell_type": "markdown",
   "id": "a0f6138d",
   "metadata": {},
   "source": [
    "metrics"
   ]
  },
  {
   "cell_type": "code",
   "execution_count": 11,
   "id": "a570dfb0",
   "metadata": {},
   "outputs": [
    {
     "name": "stdout",
     "output_type": "stream",
     "text": [
      "\n",
      "Accuracy:  0.1667\n",
      "Precision: 0.2311\n",
      "Recall:    0.1667\n",
      "\n",
      "Classification report:\n",
      "                     precision    recall  f1-score   support\n",
      "\n",
      "           WALKING       1.00      0.20      0.33         5\n",
      "  WALKING_UPSTAIRS       0.00      0.00      0.00         5\n",
      "WALKING_DOWNSTAIRS       0.25      0.20      0.22         5\n",
      "           SITTING       0.00      0.00      0.00         5\n",
      "          STANDING       0.00      0.00      0.00         5\n",
      "            LAYING       0.14      0.60      0.22         5\n",
      "\n",
      "          accuracy                           0.17        30\n",
      "         macro avg       0.23      0.17      0.13        30\n",
      "      weighted avg       0.23      0.17      0.13        30\n",
      "\n"
     ]
    }
   ],
   "source": [
    "acc  = accuracy_score(y_test, y_pred)\n",
    "prec = precision_score(y_test, y_pred, average=\"macro\", zero_division=0)\n",
    "rec  = recall_score(y_test, y_pred, average=\"macro\", zero_division=0)\n",
    "\n",
    "print(f\"\\nAccuracy:  {acc:.4f}\")\n",
    "print(f\"Precision: {prec:.4f}\")\n",
    "print(f\"Recall:    {rec:.4f}\\n\")\n",
    "print(\"Classification report:\\n\",\n",
    "      classification_report(y_test, y_pred,\n",
    "                            target_names=[ID2LAB[i] for i in sorted(set(y_test))],\n",
    "                            zero_division=0))"
   ]
  },
  {
   "cell_type": "markdown",
   "id": "60e3745d",
   "metadata": {},
   "source": [
    "confusion matrix"
   ]
  },
  {
   "cell_type": "code",
   "execution_count": 12,
   "id": "ca59a295",
   "metadata": {},
   "outputs": [
    {
     "data": {
      "text/plain": [
       "<Figure size 650x550 with 0 Axes>"
      ]
     },
     "metadata": {},
     "output_type": "display_data"
    },
    {
     "data": {
      "image/png": "[encoded data removed]",
      "text/plain": [
       "<Figure size 640x480 with 2 Axes>"
      ]
     },
     "metadata": {},
     "output_type": "display_data"
    }
   ],
   "source": [
    "labels = [1,2,3,4,5,6]\n",
    "disp = ConfusionMatrixDisplay(\n",
    "    confusion_matrix(y_test, y_pred, labels=labels),\n",
    "    display_labels=[ID2LAB[i] for i in labels]\n",
    ")\n",
    "plt.figure(figsize=(6.5,5.5))\n",
    "disp.plot(xticks_rotation=45, values_format='d')\n",
    "plt.title(\"Confusion Matrix — Decision Tree (Raw Accelerometer, Your Test Data)\")\n",
    "plt.tight_layout(); plt.show()"
   ]
  },
  {
   "cell_type": "markdown",
   "id": "7347a9a0",
   "metadata": {},
   "source": []
  },
  {
   "cell_type": "markdown",
   "id": "36ac6832",
   "metadata": {},
   "source": [
    "## Using TSEFL feature extraction "
   ]
  },
  {
   "cell_type": "markdown",
   "id": "ef939bca",
   "metadata": {},
   "source": [
    "Importing Libraries"
   ]
  },
  {
   "cell_type": "code",
   "execution_count": null,
   "id": "5e2d7b73",
   "metadata": {},
   "outputs": [],
   "source": [
    "import os, glob, numpy as np, pandas as pd, matplotlib.pyplot as plt\n",
    "from sklearn.tree import DecisionTreeClassifier\n",
    "from sklearn.preprocessing import StandardScaler\n",
    "from sklearn.metrics import accuracy_score, precision_score, recall_score, confusion_matrix, classification_report\n",
    "import tsfel\n",
    "\n",
    "TEST_DIR = r\"D:\\Onedrive\\OneDrive - iitgn.ac.in\\Desktop\\HAR-Recognition\\HAR\\final test data\" \n",
    "WIN_LEN = 500"
   ]
  },
  {
   "cell_type": "markdown",
   "id": "4d28b0ab",
   "metadata": {},
   "source": [
    "label maps"
   ]
  },
  {
   "cell_type": "code",
   "execution_count": 14,
   "id": "0781387b",
   "metadata": {},
   "outputs": [],
   "source": [
    "SUB2LAB = {\n",
    "    \"downstairs\":\"WALKING_DOWNSTAIRS\",\"laying\":\"LAYING\",\"sitting\":\"SITTING\",\n",
    "    \"standing\":\"STANDING\",\"upstairs\":\"WALKING_UPSTAIRS\",\"walking\":\"WALKING\",\n",
    "}\n",
    "LAB2ID = {\"WALKING\":1,\"WALKING_UPSTAIRS\":2,\"WALKING_DOWNSTAIRS\":3,\"SITTING\":4,\"STANDING\":5,\"LAYING\":6}\n",
    "ID2LAB = {v:k for k,v in LAB2ID.items()}\n",
    "\n",
    "def guess_axes(df: pd.DataFrame):\n",
    "    m={c.lower():c for c in df.columns}\n",
    "    for a,b,c in [(\"ax\",\"ay\",\"az\"),(\"accx\",\"accy\",\"accz\"),(\"acc_x\",\"acc_y\",\"acc_z\"),(\"x\",\"y\",\"z\")]:\n",
    "        if a in m and b in m and c in m: return m[a],m[b],m[c]\n",
    "    num=[c for c in df.columns if pd.api.types.is_numeric_dtype(df[c])]\n",
    "    if len(num)>=3: return num[0],num[1],num[2]\n",
    "    raise ValueError(\"ax/ay/az columns not found\")\n",
    "\n",
    "def load_test_as_is(test_dir):\n",
    "    X, y, used = [], [], []\n",
    "    for sub, lab in SUB2LAB.items():\n",
    "        d = os.path.join(test_dir, sub)\n",
    "        if not os.path.isdir(d):\n",
    "            print(f\"[WARN] missing test folder: {d}\"); continue\n",
    "        for fp in sorted(glob.glob(os.path.join(d, \"*.csv\"))):\n",
    "            df = pd.read_csv(fp)\n",
    "            if len(df) != WIN_LEN:\n",
    "                print(f\"[SKIP not-500] {fp} len={len(df)}\"); continue\n",
    "            axc, ayc, azc = guess_axes(df)\n",
    "            X.append(np.stack([df[axc].to_numpy(),\n",
    "                               df[ayc].to_numpy(),\n",
    "                               df[azc].to_numpy()], axis=-1))  # (500,3)\n",
    "            y.append(LAB2ID[lab])\n",
    "            used.append(fp)\n",
    "    return np.asarray(X, np.float32), np.asarray(y, int), used"
   ]
  },
  {
   "cell_type": "markdown",
   "id": "d1b2aec4",
   "metadata": {},
   "source": [
    "test set from collected data"
   ]
  },
  {
   "cell_type": "code",
   "execution_count": 15,
   "id": "a7877222",
   "metadata": {},
   "outputs": [
    {
     "name": "stdout",
     "output_type": "stream",
     "text": [
      "X_train: (126, 500, 3) y_train: (126,)\n",
      "X_test: (30, 500, 3) y_test: (30,)\n"
     ]
    }
   ],
   "source": [
    "X_test, y_test, used_files = load_test_as_is(TEST_DIR)\n",
    "print(\"X_train:\", X_train.shape, \"y_train:\", y_train.shape)\n",
    "print(\"X_test:\",  X_test.shape,  \"y_test:\",  y_test.shape)"
   ]
  },
  {
   "cell_type": "markdown",
   "id": "5695e18b",
   "metadata": {},
   "source": [
    "TSFEL feature extraction"
   ]
  },
  {
   "cell_type": "code",
   "execution_count": 16,
   "id": "4794feb0",
   "metadata": {},
   "outputs": [],
   "source": [
    "from sklearn.preprocessing import StandardScaler\n",
    "cfg = tsfel.get_features_by_domain()\n",
    "\n",
    "def extract_tsfel_features(X, fs=50):\n",
    "    feat_rows = []\n",
    "    for i in range(X.shape[0]):\n",
    "        feats = []\n",
    "        for ax in range(3):\n",
    "            sig = X[i, :, ax]\n",
    "            df_ax = tsfel.time_series_features_extractor(cfg, sig, fs=fs, verbose=0)\n",
    "            feats.append(df_ax.values.flatten())\n",
    "        feat_rows.append(np.hstack(feats))\n",
    "    F = np.vstack(feat_rows)\n",
    "    F = np.nan_to_num(F, nan=0.0, posinf=0.0, neginf=0.0)\n",
    "    return F"
   ]
  },
  {
   "cell_type": "markdown",
   "id": "ee3569cd",
   "metadata": {},
   "source": [
    "extract features"
   ]
  },
  {
   "cell_type": "code",
   "execution_count": 17,
   "id": "ac026b0d",
   "metadata": {},
   "outputs": [
    {
     "name": "stdout",
     "output_type": "stream",
     "text": [
      "TSFEL shapes: (126, 468) (30, 468)\n"
     ]
    }
   ],
   "source": [
    "X_train_tsfel = extract_tsfel_features(X_train)\n",
    "X_test_tsfel  = extract_tsfel_features(X_test)\n",
    "print(\"TSFEL shapes:\", X_train_tsfel.shape, X_test_tsfel.shape)"
   ]
  },
  {
   "cell_type": "markdown",
   "id": "b129dea5",
   "metadata": {},
   "source": [
    "standardize + train + eval (Decision Tree)"
   ]
  },
  {
   "cell_type": "code",
   "execution_count": 18,
   "id": "9770fd89",
   "metadata": {},
   "outputs": [
    {
     "name": "stdout",
     "output_type": "stream",
     "text": [
      "\n",
      "Accuracy:  0.3000\n",
      "Precision: 0.1343\n",
      "Recall:    0.3000\n",
      "\n",
      "Classification report:\n",
      "               precision    recall  f1-score   support\n",
      "\n",
      "           1       0.25      0.80      0.38         5\n",
      "           2       0.56      1.00      0.71         5\n",
      "           3       0.00      0.00      0.00         5\n",
      "           4       0.00      0.00      0.00         5\n",
      "           5       0.00      0.00      0.00         5\n",
      "           6       0.00      0.00      0.00         5\n",
      "\n",
      "    accuracy                           0.30        30\n",
      "   macro avg       0.13      0.30      0.18        30\n",
      "weighted avg       0.13      0.30      0.18        30\n",
      "\n"
     ]
    }
   ],
   "source": [
    "scaler = StandardScaler()\n",
    "X_train_s = scaler.fit_transform(X_train_tsfel)\n",
    "X_test_s  = scaler.transform(X_test_tsfel)\n",
    "\n",
    "clf = DecisionTreeClassifier(max_depth=6, random_state=0)\n",
    "clf.fit(X_train_s, y_train)\n",
    "y_pred = clf.predict(X_test_s)\n",
    "\n",
    "acc  = accuracy_score(y_test, y_pred)\n",
    "prec = precision_score(y_test, y_pred, average=\"macro\", zero_division=0)\n",
    "rec  = recall_score(y_test, y_pred, average=\"macro\", zero_division=0)\n",
    "\n",
    "print(f\"\\nAccuracy:  {acc:.4f}\")\n",
    "print(f\"Precision: {prec:.4f}\")\n",
    "print(f\"Recall:    {rec:.4f}\\n\")\n",
    "print(\"Classification report:\\n\", classification_report(y_test, y_pred, zero_division=0))"
   ]
  },
  {
   "cell_type": "markdown",
   "id": "2b9889f7",
   "metadata": {},
   "source": [
    "Confusion matrix plot"
   ]
  },
  {
   "cell_type": "code",
   "execution_count": 19,
   "id": "f9ead1e0",
   "metadata": {},
   "outputs": [
    {
     "data": {
      "image/png": "[encoded data removed]",
      "text/plain": [
       "<Figure size 650x550 with 2 Axes>"
      ]
     },
     "metadata": {},
     "output_type": "display_data"
    }
   ],
   "source": [
    "labels = [1,2,3,4,5,6]\n",
    "label_names = {1:\"WALKING\", 2:\"W_UP\", 3:\"W_DOWN\", 4:\"SITTING\", 5:\"STANDING\", 6:\"LAYING\"}\n",
    "cm = confusion_matrix(y_test, y_pred, labels=labels)\n",
    "\n",
    "fig, ax = plt.subplots(figsize=(6.5,5.5))\n",
    "im = ax.imshow(cm, cmap=\"Blues\")\n",
    "plt.colorbar(im, ax=ax, fraction=0.046, pad=0.04)\n",
    "ax.set_xticks(range(len(labels))); ax.set_yticks(range(len(labels)))\n",
    "ax.set_xticklabels([label_names[i] for i in labels], rotation=45, ha=\"right\")\n",
    "ax.set_yticklabels([label_names[i] for i in labels])\n",
    "ax.set_xlabel(\"Predicted\"); ax.set_ylabel(\"True\")\n",
    "ax.set_title(\"Confusion Matrix — Decision Tree (TSFEL features)\")\n",
    "plt.tight_layout(); plt.show()"
   ]
  },
  {
   "cell_type": "markdown",
   "id": "fb2a90d3",
   "metadata": {},
   "source": []
  },
  {
   "cell_type": "markdown",
   "id": "312fe983",
   "metadata": {},
   "source": [
    "## Performance of Decision Tree on the Collected Data\n",
    "\n",
    "We trained a Decision Tree classifier on the **UCI-HAR dataset (Combined/Train)** and tested it on the data that we personally collected. Two approaches were evaluated:\n",
    "\n",
    "---\n",
    "\n",
    "#### 1. Raw Accelerometer Data (flattened 500×3 → 1500 features)\n",
    "- **Accuracy:** 16.7%  \n",
    "- **Precision (macro):** 23.1%  \n",
    "- **Recall (macro):** 16.7%  \n",
    "\n",
    "The confusion matrix and classification report showed that the model struggled heavily when using raw data. Most activities were misclassified, except for partial recognition of *Walking* and *Laying*. This indicates that the high-dimensional raw accelerometer signals are not well-suited for a shallow Decision Tree model.\n",
    "\n",
    "---\n",
    "\n",
    "#### 2. TSFEL-Featurised Data\n",
    "- **Accuracy:** 30.0%  \n",
    "- **Precision (macro):** 13.4%  \n",
    "- **Recall (macro):** 30.0%  \n",
    "\n",
    "After applying TSFEL to extract time-series features, the performance improved compared to the raw data. The model was able to recognize *Walking* and *Walking Upstairs* reasonably well, but still failed to classify other activities reliably. Precision dropped because the model made many false positives, though recall improved for a few classes.\n",
    "\n",
    "---\n",
    "\n",
    "### Conclusion\n",
    "The Decision Tree model trained on **UCI-HAR** did not generalize well to our self-collected dataset.  \n",
    "- Raw signals performed the worst (accuracy ~17%).  \n",
    "- TSFEL features improved performance to ~30%, but accuracy and precision remained low.  \n",
    "\n",
    "This suggests a **domain shift** between the UCI-HAR dataset and our collected data (different devices, environments, and motion styles), highlighting the challenge of cross-domain activity recognition.\n"
   ]
  },
  {
   "cell_type": "markdown",
   "id": "c79cb8a4",
   "metadata": {},
   "source": [
    "# Q2.\n",
    "Use the data you collected to predict the activities that you performed. Decide whether to apply preprocessing and featurization, and if so, choose the appropriate methods. How did the model perform? [1 marks]"
   ]
  },
  {
   "cell_type": "markdown",
   "id": "ec8c14ca",
   "metadata": {},
   "source": [
    "## Train & Test on YOUR collected data "
   ]
  },
  {
   "cell_type": "code",
   "execution_count": 1,
   "id": "d3fef3be",
   "metadata": {},
   "outputs": [],
   "source": [
    "import os, glob, numpy as np, pandas as pd, matplotlib.pyplot as plt\n",
    "from collections import defaultdict\n",
    "from sklearn.tree import DecisionTreeClassifier\n",
    "from sklearn.metrics import (\n",
    "    accuracy_score, precision_score, recall_score,\n",
    "    classification_report, confusion_matrix, ConfusionMatrixDisplay\n",
    ")"
   ]
  },
  {
   "cell_type": "markdown",
   "id": "156b1bcf",
   "metadata": {},
   "source": [
    "CONFIG"
   ]
  },
  {
   "cell_type": "code",
   "execution_count": 2,
   "id": "cb72267a",
   "metadata": {},
   "outputs": [],
   "source": [
    "DATA_DIR = r\"D:\\Onedrive\\OneDrive - iitgn.ac.in\\Desktop\\HAR-Recognition\\HAR\\final test data\"\n",
    "WIN_LEN = 500                 # each CSV must have exactly 500 numeric rows\n",
    "N_TEST_PER_CLASS = 5          # choose 3–5 test files per activity (assignment guidance)\n",
    "SEED = 42                     # reproducible split\n",
    "\n",
    "# Activity mapping (folder -> label id)\n",
    "SUB2LAB = {\n",
    "    \"downstairs\":\"WALKING_DOWNSTAIRS\",\n",
    "    \"laying\":\"LAYING\",\n",
    "    \"sitting\":\"SITTING\",\n",
    "    \"standing\":\"STANDING\",\n",
    "    \"upstairs\":\"WALKING_UPSTAIRS\",\n",
    "    \"walking\":\"WALKING\",\n",
    "}\n",
    "LAB2ID = {\"WALKING\":1,\"WALKING_UPSTAIRS\":2,\"WALKING_DOWNSTAIRS\":3,\"SITTING\":4,\"STANDING\":5,\"LAYING\":6}\n",
    "ID2LAB = {v:k for k,v in LAB2ID.items()}"
   ]
  },
  {
   "cell_type": "markdown",
   "id": "779f710c",
   "metadata": {},
   "source": [
    "helpers"
   ]
  },
  {
   "cell_type": "code",
   "execution_count": 3,
   "id": "7630bad7",
   "metadata": {},
   "outputs": [],
   "source": [
    "def guess_axes(df: pd.DataFrame):\n",
    "    \"\"\"Return the column names for x,y,z accelerometer axes.\"\"\"\n",
    "    m = {c.lower(): c for c in df.columns}\n",
    "    for a,b,c in [(\"ax\",\"ay\",\"az\"), (\"accx\",\"accy\",\"accz\"), (\"acc_x\",\"acc_y\",\"acc_z\"), (\"x\",\"y\",\"z\")]:\n",
    "        if a in m and b in m and c in m:\n",
    "            return m[a], m[b], m[c]\n",
    "    # Fallback: first three numeric columns\n",
    "    num = [c for c in df.columns if pd.api.types.is_numeric_dtype(df[c])]\n",
    "    if len(num) >= 3:\n",
    "        return num[0], num[1], num[2]\n",
    "    raise ValueError(\"Could not find accelerometer columns (ax, ay, az).\")\n",
    "\n",
    "def load_my_samples_as_is(root):\n",
    "    \"\"\"\n",
    "    Load each CSV as one sample (500x3). Assumes files already trimmed to 500 rows.\n",
    "    Returns a list of (filepath, array(500,3), y_id, subfolder).\n",
    "    \"\"\"\n",
    "    items = []\n",
    "    for sub, lab in SUB2LAB.items():\n",
    "        folder = os.path.join(root, sub)\n",
    "        if not os.path.isdir(folder):\n",
    "            print(f\"[WARN] missing folder: {folder}\")\n",
    "            continue\n",
    "        for fp in sorted(glob.glob(os.path.join(folder, \"*.csv\"))):\n",
    "            try:\n",
    "                df = pd.read_csv(fp)\n",
    "                if len(df) != WIN_LEN:\n",
    "                    print(f\"[SKIP not-500] {fp} len={len(df)}\")\n",
    "                    continue\n",
    "                axc, ayc, azc = guess_axes(df)\n",
    "                # Each CSV is exactly (500,3)\n",
    "                W = np.stack([df[axc].to_numpy(),\n",
    "                              df[ayc].to_numpy(),\n",
    "                              df[azc].to_numpy()], axis=-1).astype(np.float32)\n",
    "                items.append((fp, W, LAB2ID[lab], sub))\n",
    "            except Exception as ex:\n",
    "                print(\"[SKIP]\", fp, ex)\n",
    "    return items"
   ]
  },
  {
   "cell_type": "markdown",
   "id": "8eb968e3",
   "metadata": {},
   "source": [
    "load all samples"
   ]
  },
  {
   "cell_type": "code",
   "execution_count": 4,
   "id": "174f1c68",
   "metadata": {},
   "outputs": [
    {
     "name": "stdout",
     "output_type": "stream",
     "text": [
      "Loaded 30 samples from your data.\n"
     ]
    }
   ],
   "source": [
    "all_items = load_my_samples_as_is(DATA_DIR)\n",
    "print(f\"Loaded {len(all_items)} samples from your data.\")\n"
   ]
  },
  {
   "cell_type": "markdown",
   "id": "dc8662f6",
   "metadata": {},
   "source": [
    "split train/test: pick N_TEST_PER_CLASS files per activity for TEST"
   ]
  },
  {
   "cell_type": "code",
   "execution_count": null,
   "id": "ad4f349e",
   "metadata": {},
   "outputs": [
    {
     "name": "stdout",
     "output_type": "stream",
     "text": [
      "Train: (12, 500, 3) Test: (18, 500, 3)\n",
      "  WALKING            -> train  2, test  3\n",
      "  WALKING_UPSTAIRS   -> train  2, test  3\n",
      "  WALKING_DOWNSTAIRS -> train  2, test  3\n",
      "  SITTING            -> train  2, test  3\n",
      "  STANDING           -> train  2, test  3\n",
      "  LAYING             -> train  2, test  3\n"
     ]
    }
   ],
   "source": [
    "from collections import defaultdict\n",
    "\n",
    "MIN_TEST = 3\n",
    "MAX_TEST = 5\n",
    "MIN_TRAIN = 2\n",
    "SEED = 42\n",
    "rng = np.random.RandomState(SEED)\n",
    "\n",
    "# Group by class id\n",
    "by_class = defaultdict(list)\n",
    "for fp, W, y, sub in all_items:\n",
    "    by_class[y].append((fp, W, sub))\n",
    "\n",
    "def choose_test_count(n, min_test=MIN_TEST, max_test=MAX_TEST, min_train=MIN_TRAIN):\n",
    "    \"\"\"\n",
    "    Choose #test samples given total n, preferring:\n",
    "    - test in [min_test, max_test] when possible\n",
    "    - at least min_train for training\n",
    "    - train >= test if feasible\n",
    "    Falls back gracefully when n is small.\n",
    "    \"\"\"\n",
    "    # If data is scarce, reserve min_train for training\n",
    "    if n <= min_test + min_train:\n",
    "        return max(0, n - min_train)  # may be < min_test when not enough data\n",
    "    # Start with as many tests as allowed while reserving min_train\n",
    "    test = min(max_test, n - min_train)\n",
    "    # Prefer train >= test (reduce test but not below min_test if possible)\n",
    "    while test > n - test and test > min_test:\n",
    "        test -= 1\n",
    "    # Final safety: ensure at least min_train remain\n",
    "    if n - test < min_train:\n",
    "        test = max(0, n - min_train)\n",
    "    return test\n",
    "\n",
    "X_train, y_train, X_test, y_test = [], [], [], []\n",
    "test_files_log = []\n",
    "\n",
    "for y in sorted(by_class.keys()):\n",
    "    cls_items = by_class[y]\n",
    "    n = len(cls_items)\n",
    "    if n == 0:\n",
    "        continue\n",
    "\n",
    "    rng.shuffle(cls_items)\n",
    "    n_test = choose_test_count(n)\n",
    "\n",
    "    test_part  = cls_items[:n_test]\n",
    "    train_part = cls_items[n_test:]\n",
    "\n",
    "    for fp, W, sub in test_part:\n",
    "        X_test.append(W);  y_test.append(y);  test_files_log.append((sub, fp))\n",
    "    for fp, W, sub in train_part:\n",
    "        X_train.append(W); y_train.append(y)\n",
    "\n",
    "X_train = np.asarray(X_train, np.float32)   # (Ntr, 500, 3)\n",
    "y_train = np.asarray(y_train, int)\n",
    "X_test  = np.asarray(X_test,  np.float32)   # (Nte, 500, 3)\n",
    "y_test  = np.asarray(y_test,  int)\n",
    "\n",
    "print(\"Train:\", X_train.shape, \"Test:\", X_test.shape)\n",
    "for y in sorted(by_class.keys()):\n",
    "    print(f\"  {ID2LAB[y]:<18s} -> train {np.sum(y_train==y):2d}, test {np.sum(y_test==y):2d}\")\n"
   ]
  },
  {
   "cell_type": "markdown",
   "id": "64937ebc",
   "metadata": {},
   "source": [
    "RAW features: flatten 500x3 → 1500"
   ]
  },
  {
   "cell_type": "code",
   "execution_count": 10,
   "id": "4a4e7d63",
   "metadata": {},
   "outputs": [],
   "source": [
    "X_train_flat = X_train.reshape(len(X_train), -1)\n",
    "X_test_flat  = X_test.reshape(len(X_test), -1)"
   ]
  },
  {
   "cell_type": "markdown",
   "id": "f3c3759f",
   "metadata": {},
   "source": [
    "Model: Decision Tree"
   ]
  },
  {
   "cell_type": "code",
   "execution_count": 11,
   "id": "9ee2f9a0",
   "metadata": {},
   "outputs": [],
   "source": [
    "clf = DecisionTreeClassifier(max_depth=6, random_state=0)\n",
    "clf.fit(X_train_flat, y_train)\n",
    "y_pred = clf.predict(X_test_flat)"
   ]
  },
  {
   "cell_type": "markdown",
   "id": "a91d7810",
   "metadata": {},
   "source": [
    "Metrics"
   ]
  },
  {
   "cell_type": "code",
   "execution_count": 12,
   "id": "e03c8e60",
   "metadata": {},
   "outputs": [
    {
     "name": "stdout",
     "output_type": "stream",
     "text": [
      "\n",
      "Accuracy:  0.2222\n",
      "Precision: 0.1488\n",
      "Recall:    0.2222\n",
      "\n",
      "Classification report:\n",
      "                    precision    recall  f1-score   support\n",
      "\n",
      "           WALKING       0.25      0.67      0.36         3\n",
      "  WALKING_UPSTAIRS       0.00      0.00      0.00         3\n",
      "WALKING_DOWNSTAIRS       0.00      0.00      0.00         3\n",
      "           SITTING       0.14      0.33      0.20         3\n",
      "          STANDING       0.00      0.00      0.00         3\n",
      "            LAYING       0.50      0.33      0.40         3\n",
      "\n",
      "          accuracy                           0.22        18\n",
      "         macro avg       0.15      0.22      0.16        18\n",
      "      weighted avg       0.15      0.22      0.16        18\n",
      "\n"
     ]
    }
   ],
   "source": [
    "acc  = accuracy_score(y_test, y_pred)\n",
    "prec = precision_score(y_test, y_pred, average=\"macro\", zero_division=0)\n",
    "rec  = recall_score(y_test, y_pred, average=\"macro\", zero_division=0)\n",
    "\n",
    "print(f\"\\nAccuracy:  {acc:.4f}\")\n",
    "print(f\"Precision: {prec:.4f}\")\n",
    "print(f\"Recall:    {rec:.4f}\\n\")\n",
    "\n",
    "print(\"Classification report:\")\n",
    "print(classification_report(\n",
    "    y_test, y_pred,\n",
    "    target_names=[ID2LAB[i] for i in sorted(set(y_test))],\n",
    "    zero_division=0\n",
    "))\n"
   ]
  },
  {
   "cell_type": "markdown",
   "id": "947652c5",
   "metadata": {},
   "source": [
    "Confusion Matrix"
   ]
  },
  {
   "cell_type": "code",
   "execution_count": 13,
   "id": "93d05f81",
   "metadata": {},
   "outputs": [
    {
     "data": {
      "text/plain": [
       "<Figure size 650x550 with 0 Axes>"
      ]
     },
     "metadata": {},
     "output_type": "display_data"
    },
    {
     "data": {
      "image/png": "[encoded data removed]",
      "text/plain": [
       "<Figure size 640x480 with 2 Axes>"
      ]
     },
     "metadata": {},
     "output_type": "display_data"
    }
   ],
   "source": [
    "labels = [1,2,3,4,5,6]\n",
    "disp = ConfusionMatrixDisplay(\n",
    "    confusion_matrix(y_test, y_pred, labels=labels),\n",
    "    display_labels=[ID2LAB[i] for i in labels]\n",
    ")\n",
    "plt.figure(figsize=(6.5,5.5))\n",
    "disp.plot(xticks_rotation=45, values_format='d')\n",
    "plt.title(\"Q2 — Decision Tree on My Data (RAW, each CSV = 500×3)\")\n",
    "plt.tight_layout(); plt.show()"
   ]
  },
  {
   "cell_type": "markdown",
   "id": "2e5d4af0",
   "metadata": {},
   "source": [
    "## Train & Test on YOUR collected data — TSFEL features"
   ]
  },
  {
   "cell_type": "code",
   "execution_count": 14,
   "id": "aef4a481",
   "metadata": {},
   "outputs": [],
   "source": [
    "import os, glob, warnings\n",
    "import numpy as np\n",
    "import pandas as pd\n",
    "import matplotlib.pyplot as plt\n",
    "from collections import defaultdict\n",
    "\n",
    "from sklearn.tree import DecisionTreeClassifier\n",
    "from sklearn.preprocessing import StandardScaler\n",
    "from sklearn.metrics import (\n",
    "    accuracy_score, precision_score, recall_score,\n",
    "    classification_report, confusion_matrix, ConfusionMatrixDisplay\n",
    ")\n",
    "\n",
    "import tsfel\n",
    "warnings.filterwarnings(\"ignore\")"
   ]
  },
  {
   "cell_type": "markdown",
   "id": "ad5143a1",
   "metadata": {},
   "source": [
    "CONFIG"
   ]
  },
  {
   "cell_type": "code",
   "execution_count": 15,
   "id": "fef3d220",
   "metadata": {},
   "outputs": [],
   "source": [
    "DATA_DIR = r\"D:\\Onedrive\\OneDrive - iitgn.ac.in\\Desktop\\HAR-Recognition\\HAR\\final test data\"\n",
    "WIN_LEN = 500                    # each CSV must have exactly 500 numeric rows\n",
    "SEED = 42                        # reproducible split\n",
    "MIN_TEST, MAX_TEST = 3, 5        # assignment guidance\n",
    "MIN_TRAIN = 2                    # prefer at least 2 train per class\n",
    "\n",
    "# Activity mapping (folder -> label id)\n",
    "SUB2LAB = {\n",
    "    \"downstairs\":\"WALKING_DOWNSTAIRS\",\n",
    "    \"laying\":\"LAYING\",\n",
    "    \"sitting\":\"SITTING\",\n",
    "    \"standing\":\"STANDING\",\n",
    "    \"upstairs\":\"WALKING_UPSTAIRS\",\n",
    "    \"walking\":\"WALKING\",\n",
    "}\n",
    "LAB2ID = {\"WALKING\":1,\"WALKING_UPSTAIRS\":2,\"WALKING_DOWNSTAIRS\":3,\"SITTING\":4,\"STANDING\":5,\"LAYING\":6}\n",
    "ID2LAB = {v:k for k,v in LAB2ID.items()}"
   ]
  },
  {
   "cell_type": "markdown",
   "id": "9b547834",
   "metadata": {},
   "source": [
    "helpers"
   ]
  },
  {
   "cell_type": "code",
   "execution_count": 16,
   "id": "9160d6ed",
   "metadata": {},
   "outputs": [],
   "source": [
    "def guess_axes(df: pd.DataFrame):\n",
    "    m = {c.lower(): c for c in df.columns}\n",
    "    for a,b,c in [(\"ax\",\"ay\",\"az\"),(\"accx\",\"accy\",\"accz\"),(\"acc_x\",\"acc_y\",\"acc_z\"),(\"x\",\"y\",\"z\")]:\n",
    "        if a in m and b in m and c in m:\n",
    "            return m[a], m[b], m[c]\n",
    "    # Fallback: first three numeric columns\n",
    "    num = [c for c in df.columns if pd.api.types.is_numeric_dtype(df[c])]\n",
    "    if len(num) >= 3:\n",
    "        return num[0], num[1], num[2]\n",
    "    raise ValueError(\"Could not find accelerometer columns (ax, ay, az).\")\n",
    "\n",
    "def load_my_samples_as_is(root):\n",
    "    \"\"\"Load each CSV as one sample (500x3). Assumes files already trimmed to 500 rows.\"\"\"\n",
    "    items = []  # list of (filepath, (500,3) array, y_id, subfolder)\n",
    "    for sub, lab in SUB2LAB.items():\n",
    "        folder = os.path.join(root, sub)\n",
    "        if not os.path.isdir(folder):\n",
    "            print(f\"[WARN] missing folder: {folder}\")\n",
    "            continue\n",
    "        for fp in sorted(glob.glob(os.path.join(folder, \"*.csv\"))):\n",
    "            try:\n",
    "                df = pd.read_csv(fp)\n",
    "                if len(df) != WIN_LEN:\n",
    "                    print(f\"[SKIP not-500] {fp} len={len(df)}\")\n",
    "                    continue\n",
    "                axc, ayc, azc = guess_axes(df)\n",
    "                W = np.stack([df[axc].to_numpy(),\n",
    "                              df[ayc].to_numpy(),\n",
    "                              df[azc].to_numpy()], axis=-1).astype(np.float32)  # (500,3)\n",
    "                items.append((fp, W, LAB2ID[lab], sub))\n",
    "            except Exception as ex:\n",
    "                print(\"[SKIP]\", fp, ex)\n",
    "    return items\n",
    "\n",
    "def choose_test_count(n, min_test=MIN_TEST, max_test=MAX_TEST, min_train=MIN_TRAIN):\n",
    "    \"\"\"\n",
    "    Choose #test given total n, preferring:\n",
    "      - test in [min_test, max_test] when possible\n",
    "      - at least min_train for training\n",
    "      - train >= test if feasible\n",
    "    Falls back gracefully when n is small.\n",
    "    \"\"\"\n",
    "    if n <= min_test + min_train:\n",
    "        return max(0, n - min_train)  # may be < min_test if data scarce\n",
    "    test = min(max_test, n - min_train)\n",
    "    while test > n - test and test > min_test:\n",
    "        test -= 1\n",
    "    if n - test < min_train:\n",
    "        test = max(0, n - min_train)\n",
    "    return test"
   ]
  },
  {
   "cell_type": "markdown",
   "id": "2e0e3d46",
   "metadata": {},
   "source": [
    "load all samples"
   ]
  },
  {
   "cell_type": "code",
   "execution_count": 17,
   "id": "9a521ef2",
   "metadata": {},
   "outputs": [
    {
     "name": "stdout",
     "output_type": "stream",
     "text": [
      "Loaded 30 samples from your data.\n"
     ]
    }
   ],
   "source": [
    "all_items = load_my_samples_as_is(DATA_DIR)\n",
    "print(f\"Loaded {len(all_items)} samples from your data.\")"
   ]
  },
  {
   "cell_type": "markdown",
   "id": "5afef6a0",
   "metadata": {},
   "source": [
    "split train/test with policy above"
   ]
  },
  {
   "cell_type": "code",
   "execution_count": 18,
   "id": "f0ba8188",
   "metadata": {},
   "outputs": [
    {
     "name": "stdout",
     "output_type": "stream",
     "text": [
      "Train: (12, 500, 3) Test: (18, 500, 3)\n",
      "  WALKING            -> train  2, test  3\n",
      "  WALKING_UPSTAIRS   -> train  2, test  3\n",
      "  WALKING_DOWNSTAIRS -> train  2, test  3\n",
      "  SITTING            -> train  2, test  3\n",
      "  STANDING           -> train  2, test  3\n",
      "  LAYING             -> train  2, test  3\n"
     ]
    }
   ],
   "source": [
    "rng = np.random.RandomState(SEED)\n",
    "by_class = defaultdict(list)\n",
    "for fp, W, y, sub in all_items:\n",
    "    by_class[y].append((fp, W, sub))\n",
    "\n",
    "X_train, y_train, X_test, y_test = [], [], [], []\n",
    "test_files_log = []\n",
    "\n",
    "for y in sorted(by_class.keys()):\n",
    "    cls_items = by_class[y]\n",
    "    n = len(cls_items)\n",
    "    if n == 0:\n",
    "        continue\n",
    "    rng.shuffle(cls_items)\n",
    "    n_test = choose_test_count(n)\n",
    "\n",
    "    test_part  = cls_items[:n_test]\n",
    "    train_part = cls_items[n_test:]\n",
    "\n",
    "    for fp, W, sub in test_part:\n",
    "        X_test.append(W);  y_test.append(y);  test_files_log.append((sub, fp))\n",
    "    for fp, W, sub in train_part:\n",
    "        X_train.append(W); y_train.append(y)\n",
    "\n",
    "X_train = np.asarray(X_train, np.float32)   # (Ntr, 500, 3)\n",
    "y_train = np.asarray(y_train, int)\n",
    "X_test  = np.asarray(X_test,  np.float32)   # (Nte, 500, 3)\n",
    "y_test  = np.asarray(y_test,  int)\n",
    "\n",
    "print(\"Train:\", X_train.shape, \"Test:\", X_test.shape)\n",
    "for y in sorted(by_class.keys()):\n",
    "    print(f\"  {ID2LAB[y]:<18s} -> train {np.sum(y_train==y):2d}, test {np.sum(y_test==y):2d}\")"
   ]
  },
  {
   "cell_type": "markdown",
   "id": "9ab63874",
   "metadata": {},
   "source": [
    "TSFEL features"
   ]
  },
  {
   "cell_type": "code",
   "execution_count": 19,
   "id": "c0a2aa3a",
   "metadata": {},
   "outputs": [
    {
     "name": "stdout",
     "output_type": "stream",
     "text": [
      "Extracting TSFEL features...\n",
      "TSFEL shapes: (12, 468) (18, 468)\n"
     ]
    }
   ],
   "source": [
    "cfg = tsfel.get_features_by_domain()\n",
    "\n",
    "def extract_tsfel_features(X, fs=50):\n",
    "    \"\"\"\n",
    "    X: (N, 500, 3) -> returns (N, F) features concatenating x|y|z TSFEL features\n",
    "    \"\"\"\n",
    "    feat_rows = []\n",
    "    for i in range(X.shape[0]):\n",
    "        feats = []\n",
    "        for ax in range(3):\n",
    "            sig = X[i, :, ax]\n",
    "            df_ax = tsfel.time_series_features_extractor(cfg, sig, fs=fs, verbose=0)\n",
    "            feats.append(df_ax.values.flatten())\n",
    "        feat_rows.append(np.hstack(feats))\n",
    "    F = np.vstack(feat_rows)\n",
    "    return np.nan_to_num(F, nan=0.0, posinf=0.0, neginf=0.0)\n",
    "\n",
    "print(\"Extracting TSFEL features...\")\n",
    "X_train_feat = extract_tsfel_features(X_train)\n",
    "X_test_feat  = extract_tsfel_features(X_test)\n",
    "print(\"TSFEL shapes:\", X_train_feat.shape, X_test_feat.shape)"
   ]
  },
  {
   "cell_type": "markdown",
   "id": "51925771",
   "metadata": {},
   "source": [
    "scale + Decision Tree"
   ]
  },
  {
   "cell_type": "code",
   "execution_count": 20,
   "id": "aa571258",
   "metadata": {},
   "outputs": [],
   "source": [
    "scaler = StandardScaler()\n",
    "X_train_s = scaler.fit_transform(X_train_feat)\n",
    "X_test_s  = scaler.transform(X_test_feat)\n",
    "\n",
    "clf = DecisionTreeClassifier(max_depth=6, random_state=0)\n",
    "clf.fit(X_train_s, y_train)\n",
    "y_pred = clf.predict(X_test_s)\n"
   ]
  },
  {
   "cell_type": "markdown",
   "id": "6edd96f7",
   "metadata": {},
   "source": [
    "metrics"
   ]
  },
  {
   "cell_type": "code",
   "execution_count": 21,
   "id": "6a95a3b1",
   "metadata": {},
   "outputs": [
    {
     "name": "stdout",
     "output_type": "stream",
     "text": [
      "\n",
      "Accuracy:  0.6667\n",
      "Precision: 0.6714\n",
      "Recall:    0.6667\n",
      "\n",
      "Classification report:\n",
      "                    precision    recall  f1-score   support\n",
      "\n",
      "           WALKING       1.00      1.00      1.00         3\n",
      "  WALKING_UPSTAIRS       0.00      0.00      0.00         3\n",
      "WALKING_DOWNSTAIRS       0.60      1.00      0.75         3\n",
      "           SITTING       0.43      1.00      0.60         3\n",
      "          STANDING       1.00      0.67      0.80         3\n",
      "            LAYING       1.00      0.33      0.50         3\n",
      "\n",
      "          accuracy                           0.67        18\n",
      "         macro avg       0.67      0.67      0.61        18\n",
      "      weighted avg       0.67      0.67      0.61        18\n",
      "\n"
     ]
    }
   ],
   "source": [
    "acc  = accuracy_score(y_test, y_pred)\n",
    "prec = precision_score(y_test, y_pred, average=\"macro\", zero_division=0)\n",
    "rec  = recall_score(y_test, y_pred, average=\"macro\", zero_division=0)\n",
    "print(f\"\\nAccuracy:  {acc:.4f}\")\n",
    "print(f\"Precision: {prec:.4f}\")\n",
    "print(f\"Recall:    {rec:.4f}\\n\")\n",
    "\n",
    "print(\"Classification report:\")\n",
    "print(classification_report(\n",
    "    y_test, y_pred,\n",
    "    target_names=[ID2LAB[i] for i in sorted(set(y_test))],\n",
    "    zero_division=0\n",
    "))"
   ]
  },
  {
   "cell_type": "markdown",
   "id": "69f89df1",
   "metadata": {},
   "source": [
    "confusion matrix"
   ]
  },
  {
   "cell_type": "code",
   "execution_count": 22,
   "id": "975e923a",
   "metadata": {},
   "outputs": [
    {
     "data": {
      "text/plain": [
       "<Figure size 650x550 with 0 Axes>"
      ]
     },
     "metadata": {},
     "output_type": "display_data"
    },
    {
     "data": {
      "image/png": "[encoded data removed]",
      "text/plain": [
       "<Figure size 640x480 with 2 Axes>"
      ]
     },
     "metadata": {},
     "output_type": "display_data"
    }
   ],
   "source": [
    "labels = [1,2,3,4,5,6]\n",
    "cm = confusion_matrix(y_test, y_pred, labels=labels)\n",
    "disp = ConfusionMatrixDisplay(cm, display_labels=[ID2LAB[i] for i in labels])\n",
    "plt.figure(figsize=(6.5,5.5))\n",
    "disp.plot(xticks_rotation=45, values_format='d')\n",
    "plt.title(\"Q2 — Decision Tree on My Data (TSFEL features)\")\n",
    "plt.tight_layout(); plt.show()"
   ]
  },
  {
   "cell_type": "markdown",
   "id": "0324fb6d",
   "metadata": {},
   "source": [
    "## We evaluated our self-collected data using two approaches:\n",
    "\n",
    "#### 1. **Raw Accelerometer Data (no preprocessing/featurization)**\n",
    "\n",
    "* Each CSV (500×3 samples) was flattened directly into feature vectors.\n",
    "* A Decision Tree classifier (max depth = 6) was trained.\n",
    "\n",
    "**Results:**\n",
    "\n",
    "* Accuracy: **22.22%**\n",
    "* Precision: **0.1488**\n",
    "* Recall: **0.2222**\n",
    "* Most activities (like *Walking Upstairs*, *Walking Downstairs*, *Standing*) were poorly predicted. Only *Walking* and *Laying* showed some recognition.\n",
    "\n",
    "This shows that raw accelerometer data is not sufficiently discriminative when used directly.\n",
    "\n",
    "---\n",
    "\n",
    "#### 2. **TSFEL Feature Extraction (preprocessing + featurization)**\n",
    "\n",
    "* For each 500×3 sample, we extracted statistical, temporal and spectral features using the **TSFEL** library.\n",
    "* Features were standardized with `StandardScaler` before training.\n",
    "* A Decision Tree (max depth = 6) was trained on the featurized data.\n",
    "\n",
    "**Results:**\n",
    "\n",
    "* Accuracy: **66.67%**\n",
    "* Precision: **0.6714**\n",
    "* Recall: **0.6667**\n",
    "* Activities like *Walking*, *Downstairs*, *Sitting*, and *Standing* were predicted much more reliably, although *Walking Upstairs* and *Laying* were still challenging.\n",
    "\n",
    "---\n",
    "\n",
    "### Conclusion\n",
    "\n",
    "* Using **raw data** gave very poor performance (\\~22% accuracy).\n",
    "* After applying **TSFEL featurization + scaling**, the model’s performance improved significantly (\\~67% accuracy).\n",
    "* This highlights the importance of **preprocessing and feature engineering** when working with sensor data for Human Activity Recognition."
   ]
  }
 ],
 "metadata": {
  "kernelspec": {
   "display_name": "har_assignment",
   "language": "python",
   "name": "python3"
  },
  "language_info": {
   "codemirror_mode": {
    "name": "ipython",
    "version": 3
   },
   "file_extension": ".py",
   "mimetype": "text/x-python",
   "name": "python",
   "nbconvert_exporter": "python",
   "pygments_lexer": "ipython3",
   "version": "3.10.18"
  }
 },
 "nbformat": 4,
 "nbformat_minor": 5
}
